{
 "cells": [
  {
   "cell_type": "code",
   "execution_count": 70,
   "metadata": {},
   "outputs": [
    {
     "name": "stdout",
     "output_type": "stream",
     "text": [
      "facebook run\n",
      "Wait for loading a facebook page...\n",
      "Login info has been submitted.\n",
      "Try to make a new post....\n"
     ]
    },
    {
     "name": "stderr",
     "output_type": "stream",
     "text": [
      "<ipython-input-69-745c0c8faeda>:59: DeprecationWarning: use driver.switch_to.active_element instead\n",
      "  driver.switch_to_active_element().send_keys(hashtag)\n"
     ]
    },
    {
     "name": "stdout",
     "output_type": "stream",
     "text": [
      "end\n"
     ]
    }
   ],
   "source": [
    "def main_finish():\n",
    "    driver = get_driver()\n",
    "    is_success = login(driver)\n",
    "    print(\"debug\")\n",
    "    print(is_success)\n",
    "    if is_success is False: return\n",
    "    \n",
    "    handle_popup(driver)\n",
    "    create_new_post(driver, hashtag)\n",
    "    \n",
    "\n",
    "#temp main\n",
    "def main():\n",
    "    driver = get_driver()\n",
    "    is_success = login(driver)\n",
    "    if is_success is False: return\n",
    "    \n",
    "    #handle_popup(driver)\n",
    "    #post_content(driver,\"what\")\n",
    "    create_new_post(driver, \"my name is ruby\")\n",
    "    \n",
    "    \n",
    "if __name__ == \"__main__\" :\n",
    "    print(\"facebook run\")\n",
    "    main()"
   ]
  },
  {
   "cell_type": "code",
   "execution_count": 69,
   "metadata": {},
   "outputs": [],
   "source": [
    "########################################\n",
    "#\n",
    "#\n",
    "# PROCESS : FACEBOOK auto-post (2021.03.25)\n",
    "#\n",
    "#\n",
    "#########################################\n",
    "\n",
    "from selenium import webdriver as wd\n",
    "from selenium.webdriver.chrome.options import Options\n",
    "from selenium.webdriver.common.keys import Keys\n",
    "from selenium.webdriver.common.action_chains import ActionChains\n",
    "import time\n",
    "from bs4 import BeautifulSoup\n",
    "import urllib.request\n",
    "import os\n",
    "\n",
    "def get_driver():\n",
    "    # xattr -d com.apple.quarantine chromedriver\n",
    "    CHROME_EXE_PATH = \"./chromedriver\"\n",
    "    #option is \"closing popup\"\n",
    "    chrome_options = Options()\n",
    "    prefs = {\"profile.default_content_setting_values.notifications\": 1}\n",
    "    chrome_options.add_experimental_option(\"prefs\",prefs)\n",
    "    \n",
    "    return wd.Chrome(executable_path = CHROME_EXE_PATH, options=chrome_options)\n",
    "\n",
    "def login(driver=None, email = \"id@naver.com\", passwd = \"pwd\"):\n",
    "    if driver is None: return False\n",
    "    \n",
    "    URL_LOGIN = 'https://www.facebook.com'\n",
    "    INTERVAL_LOAD_LOGIN_PAGE = 50\n",
    "    \n",
    "    driver.get(URL_LOGIN)\n",
    "    print(\"Wait for loading a facebook page...\")\n",
    "    email = \"none\"\n",
    "    passwd = \"none\"\n",
    "    driver.implicitly_wait(INTERVAL_LOAD_LOGIN_PAGE)\n",
    "    driver.find_element_by_name('email').send_keys(email)\n",
    "    driver.find_element_by_name('pass').send_keys(passwd)\n",
    "    driver.find_element_by_xpath('/html/body/div[1]/div[2]/div[1]/div/div/div/div[2]/div/div[1]/form/div[2]/button').click()\n",
    "    #login.submit()\n",
    "    \n",
    "    print(\"Login info has been submitted.\")\n",
    "    return True\n",
    "    \n",
    "    \n",
    "\n",
    "def create_new_post(driver, hashtag, img = \"/Users/kimhyunjin/Work/image.jpeg\"):\n",
    "    tags = []\n",
    "    print(\"Try to make a new post....\")\n",
    "    \n",
    "    #put the image in post\n",
    "    time.sleep(10)\n",
    "    driver.find_element_by_xpath('/html/body/div[1]/div/div[1]/div/div[3]/div/div/div[1]/div[1]/div/div[2]/div/div/div[3]/div/div[2]/div/div/div/div[2]/input').send_keys(img)\n",
    "    \n",
    "    #put the hashtag in post\n",
    "    time.sleep(2)\n",
    "    driver.switch_to_active_element().send_keys(hashtag)\n",
    "\n",
    "    #Changed to public about post\n",
    "    time.sleep(1)\n",
    "    driver.find_element_by_xpath(\"/html/body/div[1]/div/div[1]/div/div[4]/div/div/div[1]/div/div[2]/div/div/div/form/div/div[1]/div/div/div[1]/div[2]/div[2]/div/div/div/div/div/span/div/div/div/i\").click()\n",
    "    time.sleep(1)\n",
    "    driver.find_element_by_xpath(\"/html/body/div[1]/div/div[1]/div/div[4]/div/div/div[1]/div/div[2]/div/div/div/form/div/div[2]/div/div/div[2]/div/div/div/div/div[2]/div/div[1]/div/div[1]/div[2]/div[2]/div/div/i\").click()\n",
    "    \n",
    "    #click the \"upload post\" button\n",
    "    time.sleep(2)\n",
    "    driver.find_element_by_xpath(\"/html/body/div[1]/div/div[1]/div/div[4]/div/div/div[1]/div/div[2]/div/div/div/form/div/div[1]/div/div/div[3]/div[2]/div/div\").click()\n",
    "    print(\"Finish clicking new post button!\")\n",
    "    "
   ]
  },
  {
   "cell_type": "code",
   "execution_count": null,
   "metadata": {},
   "outputs": [],
   "source": []
  },
  {
   "cell_type": "code",
   "execution_count": null,
   "metadata": {},
   "outputs": [],
   "source": []
  }
 ],
 "metadata": {
  "kernelspec": {
   "display_name": "Python 3",
   "language": "python",
   "name": "python3"
  },
  "language_info": {
   "codemirror_mode": {
    "name": "ipython",
    "version": 3
   },
   "file_extension": ".py",
   "mimetype": "text/x-python",
   "name": "python",
   "nbconvert_exporter": "python",
   "pygments_lexer": "ipython3",
   "version": "3.8.5"
  }
 },
 "nbformat": 4,
 "nbformat_minor": 4
}
